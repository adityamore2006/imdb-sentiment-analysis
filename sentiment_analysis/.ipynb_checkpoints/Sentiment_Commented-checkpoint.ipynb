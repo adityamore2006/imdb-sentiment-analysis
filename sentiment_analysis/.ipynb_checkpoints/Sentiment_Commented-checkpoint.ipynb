{
 "cells": [
  {
   "cell_type": "code",
   "execution_count": 29,
   "metadata": {
    "scrolled": true
   },
   "outputs": [
    {
     "name": "stderr",
     "output_type": "stream",
     "text": [
      "huggingface/tokenizers: The current process just got forked, after parallelism has already been used. Disabling parallelism to avoid deadlocks...\n",
      "To disable this warning, you can either:\n",
      "\t- Avoid using `tokenizers` before the fork if possible\n",
      "\t- Explicitly set the environment variable TOKENIZERS_PARALLELISM=(true | false)\n"
     ]
    },
    {
     "name": "stdout",
     "output_type": "stream",
     "text": [
      "Defaulting to user installation because normal site-packages is not writeable\n",
      "Requirement already satisfied: torch in /Users/adityamore/Library/Python/3.9/lib/python/site-packages (2.6.0)\n",
      "Requirement already satisfied: torchvision in /Users/adityamore/Library/Python/3.9/lib/python/site-packages (0.21.0)\n",
      "Requirement already satisfied: torchaudio in /Users/adityamore/Library/Python/3.9/lib/python/site-packages (2.6.0)\n",
      "Requirement already satisfied: filelock in /Users/adityamore/Library/Python/3.9/lib/python/site-packages (from torch) (3.18.0)\n",
      "Requirement already satisfied: typing-extensions>=4.10.0 in /Users/adityamore/Library/Python/3.9/lib/python/site-packages (from torch) (4.13.2)\n",
      "Requirement already satisfied: networkx in /Users/adityamore/Library/Python/3.9/lib/python/site-packages (from torch) (3.2.1)\n",
      "Requirement already satisfied: jinja2 in /Users/adityamore/Library/Python/3.9/lib/python/site-packages (from torch) (3.1.6)\n",
      "Requirement already satisfied: fsspec in /Users/adityamore/Library/Python/3.9/lib/python/site-packages (from torch) (2025.3.2)\n",
      "Requirement already satisfied: sympy==1.13.1 in /Users/adityamore/Library/Python/3.9/lib/python/site-packages (from torch) (1.13.1)\n",
      "Requirement already satisfied: mpmath<1.4,>=1.1.0 in /Users/adityamore/Library/Python/3.9/lib/python/site-packages (from sympy==1.13.1->torch) (1.3.0)\n",
      "Requirement already satisfied: numpy in /Users/adityamore/Library/Python/3.9/lib/python/site-packages (from torchvision) (2.0.2)\n",
      "Requirement already satisfied: pillow!=8.3.*,>=5.3.0 in /Users/adityamore/Library/Python/3.9/lib/python/site-packages (from torchvision) (11.2.1)\n",
      "Requirement already satisfied: MarkupSafe>=2.0 in /Users/adityamore/Library/Python/3.9/lib/python/site-packages (from jinja2->torch) (3.0.2)\n"
     ]
    }
   ],
   "source": [
    "!pip3 install torch torchvision torchaudio  # Install packages using pip\n"
   ]
  },
  {
   "cell_type": "code",
   "execution_count": 30,
   "metadata": {
    "scrolled": true
   },
   "outputs": [
    {
     "name": "stderr",
     "output_type": "stream",
     "text": [
      "huggingface/tokenizers: The current process just got forked, after parallelism has already been used. Disabling parallelism to avoid deadlocks...\n",
      "To disable this warning, you can either:\n",
      "\t- Avoid using `tokenizers` before the fork if possible\n",
      "\t- Explicitly set the environment variable TOKENIZERS_PARALLELISM=(true | false)\n"
     ]
    },
    {
     "name": "stdout",
     "output_type": "stream",
     "text": [
      "Defaulting to user installation because normal site-packages is not writeable\n",
      "Requirement already satisfied: transformers in /Users/adityamore/Library/Python/3.9/lib/python/site-packages (4.51.3)\n",
      "Requirement already satisfied: requests in /Users/adityamore/Library/Python/3.9/lib/python/site-packages (2.32.3)\n",
      "Requirement already satisfied: beautifulsoup4 in /Users/adityamore/Library/Python/3.9/lib/python/site-packages (4.13.4)\n",
      "Requirement already satisfied: pandas in /Users/adityamore/Library/Python/3.9/lib/python/site-packages (2.2.3)\n",
      "Requirement already satisfied: numpy in /Users/adityamore/Library/Python/3.9/lib/python/site-packages (2.0.2)\n",
      "Requirement already satisfied: filelock in /Users/adityamore/Library/Python/3.9/lib/python/site-packages (from transformers) (3.18.0)\n",
      "Requirement already satisfied: huggingface-hub<1.0,>=0.30.0 in /Users/adityamore/Library/Python/3.9/lib/python/site-packages (from transformers) (0.30.2)\n",
      "Requirement already satisfied: packaging>=20.0 in /Users/adityamore/Library/Python/3.9/lib/python/site-packages (from transformers) (24.2)\n",
      "Requirement already satisfied: pyyaml>=5.1 in /Users/adityamore/Library/Python/3.9/lib/python/site-packages (from transformers) (6.0.2)\n",
      "Requirement already satisfied: regex!=2019.12.17 in /Users/adityamore/Library/Python/3.9/lib/python/site-packages (from transformers) (2024.11.6)\n",
      "Requirement already satisfied: tokenizers<0.22,>=0.21 in /Users/adityamore/Library/Python/3.9/lib/python/site-packages (from transformers) (0.21.1)\n",
      "Requirement already satisfied: safetensors>=0.4.3 in /Users/adityamore/Library/Python/3.9/lib/python/site-packages (from transformers) (0.5.3)\n",
      "Requirement already satisfied: tqdm>=4.27 in /Users/adityamore/Library/Python/3.9/lib/python/site-packages (from transformers) (4.67.1)\n",
      "Requirement already satisfied: charset-normalizer<4,>=2 in /Users/adityamore/Library/Python/3.9/lib/python/site-packages (from requests) (3.4.1)\n",
      "Requirement already satisfied: idna<4,>=2.5 in /Users/adityamore/Library/Python/3.9/lib/python/site-packages (from requests) (3.10)\n",
      "Requirement already satisfied: urllib3<3,>=1.21.1 in /Users/adityamore/Library/Python/3.9/lib/python/site-packages (from requests) (2.4.0)\n",
      "Requirement already satisfied: certifi>=2017.4.17 in /Users/adityamore/Library/Python/3.9/lib/python/site-packages (from requests) (2025.1.31)\n",
      "Requirement already satisfied: soupsieve>1.2 in /Users/adityamore/Library/Python/3.9/lib/python/site-packages (from beautifulsoup4) (2.6)\n",
      "Requirement already satisfied: typing-extensions>=4.0.0 in /Users/adityamore/Library/Python/3.9/lib/python/site-packages (from beautifulsoup4) (4.13.2)\n",
      "Requirement already satisfied: python-dateutil>=2.8.2 in /Users/adityamore/Library/Python/3.9/lib/python/site-packages (from pandas) (2.9.0.post0)\n",
      "Requirement already satisfied: pytz>=2020.1 in /Users/adityamore/Library/Python/3.9/lib/python/site-packages (from pandas) (2025.2)\n",
      "Requirement already satisfied: tzdata>=2022.7 in /Users/adityamore/Library/Python/3.9/lib/python/site-packages (from pandas) (2025.2)\n",
      "Requirement already satisfied: fsspec>=2023.5.0 in /Users/adityamore/Library/Python/3.9/lib/python/site-packages (from huggingface-hub<1.0,>=0.30.0->transformers) (2025.3.2)\n",
      "Requirement already satisfied: six>=1.5 in /Library/Developer/CommandLineTools/Library/Frameworks/Python3.framework/Versions/3.9/lib/python3.9/site-packages (from python-dateutil>=2.8.2->pandas) (1.15.0)\n"
     ]
    }
   ],
   "source": [
    "!pip3 install transformers requests beautifulsoup4 pandas numpy  # Install packages using pip"
   ]
  },
  {
   "cell_type": "code",
   "execution_count": 31,
   "metadata": {
    "scrolled": true
   },
   "outputs": [
    {
     "name": "stderr",
     "output_type": "stream",
     "text": [
      "huggingface/tokenizers: The current process just got forked, after parallelism has already been used. Disabling parallelism to avoid deadlocks...\n",
      "To disable this warning, you can either:\n",
      "\t- Avoid using `tokenizers` before the fork if possible\n",
      "\t- Explicitly set the environment variable TOKENIZERS_PARALLELISM=(true | false)\n"
     ]
    },
    {
     "name": "stdout",
     "output_type": "stream",
     "text": [
      "Defaulting to user installation because normal site-packages is not writeable\n",
      "Requirement already satisfied: selenium in /Users/adityamore/Library/Python/3.9/lib/python/site-packages (4.31.0)\n",
      "Requirement already satisfied: urllib3<3,>=1.26 in /Users/adityamore/Library/Python/3.9/lib/python/site-packages (from urllib3[socks]<3,>=1.26->selenium) (2.4.0)\n",
      "Requirement already satisfied: trio~=0.17 in /Users/adityamore/Library/Python/3.9/lib/python/site-packages (from selenium) (0.29.0)\n",
      "Requirement already satisfied: trio-websocket~=0.9 in /Users/adityamore/Library/Python/3.9/lib/python/site-packages (from selenium) (0.12.2)\n",
      "Requirement already satisfied: certifi>=2021.10.8 in /Users/adityamore/Library/Python/3.9/lib/python/site-packages (from selenium) (2025.1.31)\n",
      "Requirement already satisfied: typing_extensions~=4.9 in /Users/adityamore/Library/Python/3.9/lib/python/site-packages (from selenium) (4.13.2)\n",
      "Requirement already satisfied: websocket-client~=1.8 in /Users/adityamore/Library/Python/3.9/lib/python/site-packages (from selenium) (1.8.0)\n",
      "Requirement already satisfied: attrs>=23.2.0 in /Users/adityamore/Library/Python/3.9/lib/python/site-packages (from trio~=0.17->selenium) (25.3.0)\n",
      "Requirement already satisfied: sortedcontainers in /Users/adityamore/Library/Python/3.9/lib/python/site-packages (from trio~=0.17->selenium) (2.4.0)\n",
      "Requirement already satisfied: idna in /Users/adityamore/Library/Python/3.9/lib/python/site-packages (from trio~=0.17->selenium) (3.10)\n",
      "Requirement already satisfied: outcome in /Users/adityamore/Library/Python/3.9/lib/python/site-packages (from trio~=0.17->selenium) (1.3.0.post0)\n",
      "Requirement already satisfied: sniffio>=1.3.0 in /Users/adityamore/Library/Python/3.9/lib/python/site-packages (from trio~=0.17->selenium) (1.3.1)\n",
      "Requirement already satisfied: exceptiongroup in /Users/adityamore/Library/Python/3.9/lib/python/site-packages (from trio~=0.17->selenium) (1.2.2)\n",
      "Requirement already satisfied: wsproto>=0.14 in /Users/adityamore/Library/Python/3.9/lib/python/site-packages (from trio-websocket~=0.9->selenium) (1.2.0)\n",
      "Requirement already satisfied: pysocks!=1.5.7,<2.0,>=1.5.6 in /Users/adityamore/Library/Python/3.9/lib/python/site-packages (from urllib3[socks]<3,>=1.26->selenium) (1.7.1)\n",
      "Requirement already satisfied: h11<1,>=0.9.0 in /Users/adityamore/Library/Python/3.9/lib/python/site-packages (from wsproto>=0.14->trio-websocket~=0.9->selenium) (0.14.0)\n"
     ]
    }
   ],
   "source": [
    "!pip3 install selenium\n"
   ]
  },
  {
   "cell_type": "code",
   "execution_count": 32,
   "metadata": {},
   "outputs": [],
   "source": [
    "from transformers import AutoTokenizer, AutoModelForSequenceClassification  # Import required libraries\n",
    "import torch  # Import required libraries\n",
    "import requests  # Import required libraries\n",
    "from bs4 import BeautifulSoup  # Import required libraries\n",
    "import re  # Import required \n",
    "\n",
    "from selenium import webdriver\n",
    "from bs4 import BeautifulSoup\n",
    "import time"
   ]
  },
  {
   "cell_type": "code",
   "execution_count": 33,
   "metadata": {},
   "outputs": [],
   "source": [
    "tokenizer = AutoTokenizer.from_pretrained('nlptown/bert-base-multilingual-uncased-sentiment')  # Load a pre-trained tokenizer for multilingual sentiment analysis\n",
    "\n",
    "model = AutoModelForSequenceClassification.from_pretrained('nlptown/bert-base-multilingual-uncased-sentiment')  # Load a pre-trained sentiment analysis model"
   ]
  },
  {
   "cell_type": "code",
   "execution_count": 34,
   "metadata": {},
   "outputs": [],
   "source": [
    "tokens = tokenizer.encode('It was good but couldve been AMAZING AMAZING. Great', return_tensors='pt')  # Tokenize the input sentence and return as tensor"
   ]
  },
  {
   "cell_type": "code",
   "execution_count": 35,
   "metadata": {},
   "outputs": [],
   "source": [
    "result = model(tokens)  # Perform sentiment prediction using the model"
   ]
  },
  {
   "cell_type": "code",
   "execution_count": 36,
   "metadata": {},
   "outputs": [
    {
     "data": {
      "text/plain": [
       "tensor([[-2.1069, -0.9779,  1.0529,  1.4932,  0.4708]],\n",
       "       grad_fn=<AddmmBackward0>)"
      ]
     },
     "execution_count": 36,
     "metadata": {},
     "output_type": "execute_result"
    }
   ],
   "source": [
    "result.logits  # Access raw output scores (logits) from the model"
   ]
  },
  {
   "cell_type": "code",
   "execution_count": 37,
   "metadata": {},
   "outputs": [
    {
     "data": {
      "text/plain": [
       "4"
      ]
     },
     "execution_count": 37,
     "metadata": {},
     "output_type": "execute_result"
    }
   ],
   "source": [
    "int(torch.argmax(result.logits))+1  # Access raw output scores (logits) from the model"
   ]
  },
  {
   "cell_type": "code",
   "execution_count": 38,
   "metadata": {},
   "outputs": [
    {
     "name": "stderr",
     "output_type": "stream",
     "text": [
      "huggingface/tokenizers: The current process just got forked, after parallelism has already been used. Disabling parallelism to avoid deadlocks...\n",
      "To disable this warning, you can either:\n",
      "\t- Avoid using `tokenizers` before the fork if possible\n",
      "\t- Explicitly set the environment variable TOKENIZERS_PARALLELISM=(true | false)\n",
      "huggingface/tokenizers: The current process just got forked, after parallelism has already been used. Disabling parallelism to avoid deadlocks...\n",
      "To disable this warning, you can either:\n",
      "\t- Avoid using `tokenizers` before the fork if possible\n",
      "\t- Explicitly set the environment variable TOKENIZERS_PARALLELISM=(true | false)\n"
     ]
    }
   ],
   "source": [
    "# Open a Chrome browser (make sure ChromeDriver is installed and in your PATH)\n",
    "driver = webdriver.Chrome()\n",
    "\n",
    "# Load the IMDB reviews page\n",
    "driver.get('https://www.imdb.com/title/tt2560140/reviews/?ref_=tt_ururv_sm')\n",
    "\n",
    "# Wait a few seconds for JavaScript to load reviews\n",
    "time.sleep(5)\n",
    "\n",
    "# Parse the rendered HTML using BeautifulSoup\n",
    "soup = BeautifulSoup(driver.page_source, 'html.parser')\n",
    "driver.quit()\n",
    "\n",
    "# Find all divs containing review text (same class as before)\n",
    "results = soup.find_all('div', class_='ipc-html-content-inner-div')\n",
    "\n",
    "# Extract just the text of each review\n",
    "reviews = [result.get_text(separator=\" \", strip=True) for result in results]"
   ]
  },
  {
   "cell_type": "code",
   "execution_count": 39,
   "metadata": {},
   "outputs": [
    {
     "data": {
      "text/plain": [
       "[\"Attack On Titan is officially over. And nothing will ever be the same. When I finished Breaking Bad back in 2019 prior to ever watching anime, if someone told me an anime would be on the same playing field as Breaking Bad and even exceed it at times, I would've told them they were crazy. But in reality, I was the crazy one. This story took me places mentally and emotionally I didn't think I could go. In this dark and cruel world created by Hajime Isayama, while some things are objectively wrong, there's never a moment where you can definitively say that someone's the good guy or bad guy. Once you see the full picture of the show, it's indescribable to explain the show in the manner of good and bad considering how much everyone's in this dark abyss of a gray area that has no objective answer to whom is in the right or wrong. And that's the beauty of AOT. Attack On Titan is not meant to be joyous. It's a tragedy. It's an unfair world where everyone at some point is given a dirty hand whether they deserve it or not, and the characters have to try and live with that reality and keep moving forward. Now that doesn't mean that there aren't moments where you as a viewer can feel joyous for your perspective favorite character/side because there likely will be, but when you're no longer told the story through this small microscope, you won't be able to see the show the same. And that's where the absurd genius of the creator Hajime Isayama comes into play. As much as I love the Vince Gilligan's of the world, David Chase, Peter Gould, Jesse Armstrong, David Simon and honestly any writer of any piece of fiction... no one comes close to the creativity that this man has. Isayama is able to create this large world in these small walls surrounded by humanoid creatures that live to destroy and ruin the human race. But as you continue to watch the show, it's like you're peeling an endless onion that doesn't stop, and constantly makes your eyes water and tear up due to the brutality and the absurdity that this universe subjects you to. It will boggle your mind then tear you to shreds in ways that I've never seen before. The plot twists are second to none. The heartbreak will shatter you to pieces. The betrayals will leave you speechless. The world building will make everything before seem small. And the clashes of different ideals will leave you wondering how you could even pick a side. I could go on all day but to put it simply, the unique story in itself is what brings this all together. And that's not even mentioning things like the voice acting, music, animation, esc. Which are all top tier. This isn't an anime. This isn't a TV show. This is a fictional masterpiece. And I'm honored and blessed to say that I got to live to see the day where I'd witness the end of it. Thank you, Hajime Isayama. And see you later, AOT.\",\n",
       " \"The moment you watch this audiovisual masterpiece you will immediately appreciate the level of thought and detail that went into this. From the initial scene that shows you the main and unique weapons to some of the frames that could literally be used as your desktop background or be hanged in your room as paintings. From episode to episode you'll think that you won't be surprised anymore and you'll be wrong again and again, every time I thought an episode or season couldn't be better I was proven wrong. You will get goos bumps from dialog alone and you will lose your mind in the epic fight scenes The characters and their development, the story covered in mystery that unveils beautifully, a dialog carefully written that shows the characters personalities and wisdom., sound design, music, illumination... you'll feel like you are there. The voicing of the characters is excellent... there is nothing below excellent in this. An absolute masterpiece and a bar of quality for any audio visual product to come. Be prepared to care only about Attack on Titan and nothing else, because nothing else will make you feel this way.\",\n",
       " \"Before I started watching this show, I couldn't imagine why it is rated so high. After I finished the first season, I understood. And now, having watched the third season I don't understand, why it isn't rated even higher! Truly a masterpiece, and deserves to be mentioned on the same page as other fantasy war epics like Lord of the Rings and Game of Thrones. (I dare to say this is even better than those two.) There are countless twist and turns, shocking revelations and heartbreaking moments troughout the series, spiced with great voice acting, beautiful visuals and on top of all: a more than perfect, stunning soundtrack, thanks to Hiroyuki Sawano. The story is brilliantly written, and does not slow down, not even for a bit. It keeps growing bigger and bigger, while you will find yourself tied to your chair, as you can't watch only one or two episodes. Behind the plot and the action, there is also deeper meaning about war, humanity and questions about moral dilemmas. Toughtprovoking, exciting and most of all a masterpiece of our time!\",\n",
       " \"Never have I been one to seek out Anime but this show was recommended to me very heavily multiple times. I eventually caved and watched the first episode. I was then sucked into the most intense binge watch I've ever experienced. It is on second to Band of Brothers in my personal favorite shows. I have no words to truly describe how incredible this show is. I wish I could go back in time and watch it for the first time again. This show had almost ruined all other tv shows for me because I know they will never even come close to being as perfect as this show. The characters and story line are impeccable.\",\n",
       " \"*NO SPOILERS IN MY REVIEW* I can't put into words the emotions I felt when watching this show over the course of two months. It honestly completely took over my entire life and personality, and it was all I could think about... There's never been a show with as many plot twists as this, as deep of emotional connections to the characters through the screen as this, or written greatness as this. But know that every single detail should not go unnoticed. Every single word that the characters say. EVERYTHING is foreshadowing, and the circular storytelling is revolutionary like no other. Hands down, this is the most incredible show with incredible characters, storytelling, and attention to detail. Do yourself a favor and immerse yourself in this story.\",\n",
       " \"Growing up in the 80's 90's during the time of top anime stories and always getting into arguments with my friends and my son that those were the golden anime era and now I have to admit. This is if not the best story telling I witness in all my years. This show raise the bars with each episode, with unpredictable twist and turns you won't see coming. After completing season 4 mid season finally I must say I'm happy to be alive witnessing a master peace in the making. Can't wait for the finally!\",\n",
       " \"I'm a more frequent American TV shows watcher than Anime watcher. I have been watching multiple great TV shows in the past 10 years: Breaking Bad, Game of Thrones, Lost, Westworld, The Boys, Dark, House of Cards, Sherlock etc. - just to name a few. Attack on Titan caught my attention one day after I checked the top 250 TV shows on IMDB and saw multiple 10/10 featured reviews from other people, especially considering that it's an anime that is ranked very high on the list. Hence, I came to AoT with high expectation and after watching it, I'm surprised that it only gets a 9/10. This show is definitely not inferior to Game of Thrones or Breaking Bad, though I understand that being an animated, foreign show means that it has to try much harder to prove its worth. I find AoT to be almost perfect, and I don't think it's realistic to expect any shows to be perfect. After all, these pieces of arts are all created by human being and we are imperfect! What other reviewers said about AoT is absolutely true: AoT has incredible storytelling, world building, plot twist, foreshadowing, character development and excellent soundtracks. On top of that, I trust the hype also comes from the fact that this show builds such a strongly immersive world for viewers where one can feel being part of its world and understanding the characters' motives and actions. This exerts a strong impact on our feelings and the theme itself is so thought-provoking, which is not something a lot of shows could do. And trust me, I believe I watched enough good series and movies so as not to be easily impressed. On a side note, I don't find the lowest ratings for AoT justified, but rather superficial. Among the lowest reviews I've seen so far on IMDB, none has truly given a critical analysis of why the show is objectively bad - it's either coming from pure haters, those who are too impatient to watch the story in full or those who just don't want to understand the series because of existing bias. Also, any comments saying that AoT is predictable and cliché is the same as saying GoT is predictable too 😊. The show keeps getting better and better after each season with lots of jaw-dropping twists. As such, I do respect its consistently high quality after 10 years since its first episode and after seeing multiple great TV series starting off well and had degrading quality after a few seasons. There is only 1 episode left and the show so far has only raised the bar after each episode. I know about the ending through the manga and I find it absolutely satisfying. It's considered to be a controversial ending where the fandom is splitted. But I think that's the beauty of this series - it's more real than a live-action show and it correctly depicts the actual world. There is no boundary of good or bad, right or wrong - it's all about perspective. All in all, a phenomenal journey that I'm utterly grateful to embark on. An absolute 10/10 for this masterpiece - a pity that 10 is all there is to rate.\",\n",
       " 'Attack On Titan makes it hard for me to enjoy watching other Animes 😂',\n",
       " \"Incredible, I honestly have to say that this could be the best anime ever due to its development and plot. Shingeki No Kyojin has one of the best character developments and plot in history (note that this series does not have fill), he even the secondary and third characters have a great importance in the story, but also has that sense of terror, action and drama that by the way is incredibly well done, makes you live the situation that the characters go through and transmit their emotions to you in a very human way. It has an excellent background story that is simply memorable. Every decision they make is of minor importance to the series and should not be missed, their deaths and the surprise of knowing who are the real antagonists add a magical touch The first season has a slight start, it ends up being a spectacular season, it is not the best but it is an amazing season with an incredible animation and plot, here you will be introduced to the first antagonist of the series. 9.4/10 The second season I think was epic, this is when you start to see the faces of the real villains (get ready for Senshi Tmp 2 Ep 6 which according to me is the best of the second season, an overwhelming chapter) Shingeki no Kyojin explains it to you perfectly without leaving gaps in the plot, an incredible season. 9.6/10 The third season is truly phenomenal, has a good start and lets you know the problems you will have in a society by not agreeing with something or the difficult decisions you must make to ensure your survival. After this, too many things are clarified without detours, the chapters that stood out most were Perfect Game (Tmp 3, Ep 16), Hero (Tmp 3, Ep 17), Midnight Sun (Tmp 3, Ep 18) and That Day (Tmp 3, Ep 20) (That day has no action or features our main characters, but this chapter amazes me, its development is spectacular and the way they explain everything is overwhelming, honestly, the best development chapter in the history of anime). 9.8/10 Season four is the start of the finale. A season practically perfect, in this season everything comes to light answering every question of the viewer, leaves no gaps in the plot and has a beautiful animation, besides that is incredibly shocking and demonstrates the incredible development in our protagonists, Eren has the best character development I think. For me the best chapters were in my opinion Declaration of War (Tmp 4, Ep 5) (Declaration of War is one of the most impactful chapters of development), The War Hammer Titan (Tmp 4, Ep 6), Assault (Tmp 4, Ep 7), Assassin's Bullet (Tmp 4, Ep 7) (Assassin's Bullet left me speechless...) and Above and Below (Tmp 4, Ep 16), has not yet finished this season, but still for me it is spectacular. 9.9/ 10 This season is the best. In my opinion your average would be 9.3/10. Sincerely from my point of view, the best anime ever, a work of art from post-apocalyptic fiction.\",\n",
       " \"I'm not an expert of anime. I haven't even read the manga, which I'll do it btw. But I can assure you that attack on titan will keep you interested from the very beginning thanks to a gripping and original plot. There isn't a single boring episode, it's always suspance and action. It may seem a superficial fantasy anime but it actually deals with important topics, such as freedom. Furthermore, the soundtracks are so good that you will start feeling patriotism for an imaginary country.\",\n",
       " \"The entire storyline is constantly expanding with unexpected twists and turns. Seeing where the show started and where it ends up, you wouldn't even believe it's the same storyline. There are hundreds of hints and forshadowing that let you discover hidden things about characters and civilization before it is ever said. Everything is so fleshed out too. It is an intense, soul crushing, inspirational, fantastic show with some of the best animated moments with dynamic camera shots, dynamic movement, amazing fight choreography and beautifully written characters. This is my favorite show of all time, each time I rewatch it I learn something new, hidden in the storyline. Couldn't recommend enough.\",\n",
       " \"Season 1: 7/10 This is probably the best the show ever was, despite all the anime-isms that make parts of it hard to take seriously. It's exciting, it's mysterious, and it does a fantastic job of setting the tone. Season 2: 6/10 This season is fine, it strays from the first season's tone a bit more than I'd like and it's full of conversations between major characters that the audience has zero context for, making this is a frustrating season to watch. On top of that, what should've been one of the show's biggest reveals is extremely downplayed to the detriment of the season. Season 3: 5/10 I'm very mixed about this season. It's divided into two distinct arcs, the first of which is awful and the second of which is nearly the same level of quality as the first season. The structure and pacing of the first arc is terrible, the villains are bland and either not fleshed out at all or too late for the audience to care. The second arc of this season, however, is exciting and much more important to the overall narrative of the show. It still fails to perfectly recapture the tone of season one, but it's very good. The first arc is a 3/10 and the second if a 7/10, so rating-wise I took the average. Season 4: 6/10 This season was difficult to get through for me, not because it was bad but because it was so different, There was so much information, and there were so many new characters and conflicts. It was a lot, but I think in the end it mostly worked. Not every new character or plot thread mattered in the grand scheme of things, while others mattered a lot and significantly impacted the narrative. The animation style was also very different this season and unfortunately it was to the show's detriment. Overall, I like this show a lot, but it has some significant problems. My biggest complaint was that the tone was set perfectly in season one, then largely abandoned for the rest of the series. Despite this, the show is exciting, the music and animation is (mostly) great, and the characters are well-realized and fun to watch.\",\n",
       " 'Season 4 is halfway through already, and I have gone back once again to re-watch the previous seasons, and it truly is a masterpiece on all levels. I had to pause S1E06 just now to write this review as 9 minutes into that episode had me crying again. I have been watching AoT since 2013, eagerly awaiting each new episode and season, and it\\'s hard to believe the series is ending very soon. \"Don\\'t be sad that it\\'s over, be happy that it happened\", and all that... For a time my top 3 running shows were GoT, Vikings, and AoT. Sadly, GoT collapsed before the finish line, Vikings slowly fizzled out in quality after its fourth season, yet Attack on Titan has held strong and not only remained brilliant, but actually improved in many ways as the show progressed, which is incredibly rare. I still to this day listen to the amazing soundtrack while doing other things, and each time I return to watching the show, it\\'s hard to pinpoint anything bad about it really. And I know some people will say that AoT is overrated, and I might have thought that at some points in the show also, such as at various points in Season 2 and 3, but when you see how it all connects together and makes overall sense in the macro, some seemingly weaker aspects or things that appear nonsensical, overly contrived or dramatized at the time, make sense upon revisiting it, or at least that was my experience. Anyway, I would give Attack on Titan a 10/10 simply because it is so intensely watchable, engaging, inspiring, epic, thought-provoking, anti-war, spine-chilling, horrifying at times, emotional and tear-inducing. If you liked the early seasons of Game of Thrones, Vikings, Breaking Bad, Fullmetal Alchemist, and other similar shows, then Attack on Titan is indeed for you. Now to slowly endure the agonising anticipation for each new and final episode of the last season... P.S. - a good companion documentary to this is Dominion (2018)',\n",
       " 'Review By Kamal K Story 10/10 It continunes few days after where we left off last season and it focuses more on political drama and dilemmas inside the walls. This season gets straight to the point and introduces new villain named Kenny that turns out to be somehow related to Levi. There are many parties trying to get Eren and Historia. For what reason? It is yet to be reveald. Mystery we all feel in love with is still there and there are even more questions, but don\\'t let that distract you from the fact that this season ,even tho is only few episodes in, already has some major reveals in it. Pacing is amazing and i wasn\\'t bored for a moment while watching. Things are only getting more interesting when Erwin reveals how he\\'s planning to ovethrow the governmant without using the force. This season has a very refreshing and different plot compared to previous ones as we can see from the lack of titans and focuse on the issues inside the walls rather than beyond. However it\\'s still as, if not more interesting than before. There is world buidling,mystery,back stabbing and some major questions answered which there is hopfully more to come. Animation 10/10 As we can see characters in this season look a little bit different or older which some might not like but i do personally. It\\'s a fresh change. They look closer to their manga designes. Some might notice that they removed those thick black lines around characters faces which made AOT art stand out even more. Don\\'t get me wrong, it still does but that was something that was missing which kept me from giving it 10/10.\\nAnimation is brilliant for this season (it\\'s Attack on Titan after all :D) and like every season it only got better. . Perfect combination between 3D background and 2D animation along with masterfull camera movement made this scene look like a movie. There is even one frame where levi is facing the wall and you can see his reflection in the window. Just goes to show how much detail and time was put in to this scene. After i done some research i found out that it took the animator of this scene 1 whole month to complete it. Just that one scene alone. All props to Arifumi Imai. Great job. Hopfully it keeps this quality because this season is said to be 24 episodes long. Sound 10/10 I mean, is there anything to say? AoT is notorious for it\\'s amazing OST and sound quality. Voice actors are great as always and the sound that stand out to me the most was the sound of falling shell from kenny on the roof in ep.1. It was just so satisfying :D. And again mad props to Hiroyuki Sawano (the composer) for the epic and emotional music. Characters 10/10 What i like about AoT characters is the fact that they interact so naturally and nothing from their conversation seems forced which is immediately showcased in the very first scene in ep. 1. That cabin scene where jean and eren argue,sasha tries to steal bread, mikasa still does work even tho she\\'s injured and armin cares for her deeply. And of course Levi the clean freak comes in at the end :p They are such fun and lively characters.\\nThis season already had some major development for our cast. We got to see Erwin\\'s and Hisotira\\'s backstories which also delved deeper in their characters motives. Both backstories were heartbreaking and made me care a lot more for them. Hisotira is slowly taking of her \"Christa Lenz\" facade (is that how you say it? lol) and Erwin is proving again and again why everyone loves him and would follow him to death. His childhood story is very similar to how our society and governmant wokrs today which is very scary. And we all need to remember that isayama is criticizing this type of government and society with these topics. Instead of just walking of Erwin comes back to Dimo Rivees\\'s wife and comforts her saying he\\'ll avange him. Erwin is charismatic,great leader, intellignet and someone that you just want to follow. Since the young age he was corious and as he call himself a \"gambler\". He is someone that would give everything for the humanity. Or is he? I think there is a lot more to his character. Hange got some development too. Eren is maturing and seems a lot more chill this season but unfortunately he is kiddnaped again :( Poor guy he just can\\'t catch a break. In ep.1 he helps historia to overcome here pain and shows again just how honest he is by telling her \"I like you more this way, just a stupidly normal honest girl\". Also hugeee development for armin. To think that he would be capable of killing a human.. this will deffinitely have a huge impact on his character in the future. The way he selfreflects and his philosohpical speach about morals is great, it really makes you think. He kinda has a point too. He shows one more time how mentally strong he is even tho he lacks physicial strength. This time is just on another level. Now lets talk about our new villain. KENYYYYYYYYYYY. I love this guy lol. The way he roasts and insults levi and the cowboy vibe he gives. I love it. He immediately showcases that he is not a joke by blowing nifa\\'s head off just like that. He also seems very mysterious. The way he treats levi is almost as if he looks down upon him. Speaking of Levi here is what i think: That chase scene where he\\'s running away from kenny is not just a great action sequence it also represents Levi running from his past. Kenny=His past. Running from kenny or his past. This arc is also big development and challange for him now that he has to act as a leader/commander because erwin is absent or busy. There was also some smaller developments for connie (motivating himself to take on the beast titan),jean (struggling to remain human which almost costs him life, also selfreflecting), sanes (showing how he didn\\'t want to do the things that he has done and over the time he just got used to it, also he was kinda easy to symphatise with too and his devotion to king is may be morally wrong but aslo admirable, the way he feels destroyed after finding out that he was actually the one that betrayed the king is also worth mentioning), flegel (stepping up becoming a boss saying how he\\'ll protect the people of his city), zachary (showcasing that he cares more about himself rather than humanity and how he always hated the governmant because they looked up on everyone). Enjoyment 10/10 I never enjoyed AoT more. It\\'s great.This season has perfect balance between story telling, character development and action. Overall 10/10',\n",
       " \"This anime is simply amazing! The way it is animated, the soundtrack, the characters, the story, the thrill and the suspense. All in one action-packed anime. One of the best so far. As it has only 9 episodes as of now ... many critics say that it is way too early to rate an anime. But, according to me, this is pure class. The soundtrack's tempo varies according to the situation and this makes it more exciting. The ending of the episode is something that NO one will look forward to as NO one will want it to end. A must watch for every anime lover and of course the manga is available as well. Although a bit gory, the epicness makes up for it! You know those animes that catch your eye from the first episode, this is one of them.\",\n",
       " \"A lot of people have this question, can season 4 beat season 3 part 2? And the answer is yes! Isn't full of action, is like a combination of all the seasons, great plot, the best charachter development in all the serie, great action, and a lot of plot twist. October 2020, please I need you right now!\",\n",
       " 'Ive been watching this show since 2016, and I wanted to write a review for it but I couldn\\'t because with every new episode i have a mixed feelings and i can\\'t determine where am i from this show. But now, with only 1 episode left, i can finally write whats in my heart. In AOT, you dont have to support the \"good\" against the \"evil\", because simply there\\'s no such thing in this world. Usually, an any work whether if its a movie, tv show or an anime, there\\'s sides and you as a viewer have the choice to support whatever you like good or bad. Most people choose the good side, some choose the bad one. This type of work represents almost 75% of all the works out there. So some of us have adjusted to the idea of good and bad sides. The other 25% are shows, movies and animes like AOT, they are psychologically complexed with a lot of twists and most importantly no good or bad sides. These kind of animes describes the world and our reality in such a scary truthful way, it mixes your emotions and feelings and you dont know what to think, makes you consider a thousand time before calling a character good or bad, this is AOT. After completing most of the show i can say, that AOT reached a high level of realism. That you dont have to determine in which side are you. One advice for anyone who hasn\\'t saw AOT or is still in the beginning, dont take sides, just enjoy the anime because I believe its the best anime in the world.',\n",
       " \"Attack on Titan is the king of world building and plot. With ultra realistic consequences missing from a lot of animation, Attack on Titan stands out as it has an incredibly dark world with actually stakes. The aspects of horror and adrenaline when there's an action scene is stellar. The characters, action and music could carry episodes but don't have to because the show is already that good. Characters have depth and feel like real people, they die constantly and never feel 100% safe. The action is some of the best action in any show. Mystery aspects make even moments that could come off as bland feel so much more impactful. This is perhaps one of the best stories ever written. The Music makes this epic world feel vast and important, while also sounding phenomenal. Attack on Titan is a masterpiece of our generation and my favorite TV Show of all time.\",\n",
       " \"Perfect from every prospective story,music, sound track, art and animation. This is not an ordinary anime it's a masterpiece.\",\n",
       " \"Some of the people have rated this show a 1 out of 10. And I understand why. The Plot is so well written, you won't even know the real storyline until season 3 or whatever. On the outside it seems a pretty simple story. Demons vs humans. Who will win? That is hardly the story at all... and even thinking that, I watched through the first 2 seasons. And even then I was hooked because of great story building and great great climaxes and actions and all. I thought season 1 ending was insane. Then season 2 came. I thought It was even crazier. Then season 3! A literal masterpiece... specially the second arc. and the 4th season is expected to be God Level. And I expect nothing less from the greatest anime of all time. That's how good the story is! It's complex yes. Greatest Plot I have ever seen on a show. I love breaking bad, I love Avatar the last air-bender, I love Game of thrones. But The story line, music, and the voice acting are all 10/10 easily. Do yourself a favor, don't judge it by it's cover, get through some quality anime till you reach God level story telling. You will thank me when you reach the season 3 finale, GUARANTEED!\",\n",
       " 'This series is really ahead of its time, its brilliant and its definitely the best tv show ive ever watched in my life. The fact that it has an imdb of 8.8 is a disgrace, it deserves way better than that especially after the glorious season 3 part 2. This anime is way better than rick and morty, way better than even game of thrones, but the ppl in charge of imdb give it a way lower ratings than those two?......balls. This anime deserves a lot more respect.',\n",
       " \"This is the show that made me create an account just so I could write about it. Attack on Titan is the first anime that I ever watched. Three years later, and having seen over 40+ animes, I can confidently say AOT stands tall above the rest. I could talk about how is one of the few animes that have transcended its own medium, garnering mainstream attention, but that only speaks about the show's popularity. What makes this show so special is its story, and the way the narrative evolves throughout 4 seasons, elevating the stakes, while always mantaining the same core themes, particularly the fight for freedom. The music, the plot twists, the nuanced characters, the animation and the amazing cinematography provided by both Wit Studio and Studio Mappa, helped to position AOT as not only one of the best animes of all time, but quite possibly one of the greatest stories ever told.\"]"
      ]
     },
     "execution_count": 39,
     "metadata": {},
     "output_type": "execute_result"
    }
   ],
   "source": [
    "reviews"
   ]
  },
  {
   "cell_type": "code",
   "execution_count": 40,
   "metadata": {},
   "outputs": [],
   "source": [
    "import numpy as np  # Import required libraries\n",
    "import pandas as pd  # Import required libraries"
   ]
  },
  {
   "cell_type": "code",
   "execution_count": 41,
   "metadata": {},
   "outputs": [],
   "source": [
    "df = pd.DataFrame(np.array(reviews), columns=['review'])  # Convert the list of reviews to a NumPy array"
   ]
  },
  {
   "cell_type": "code",
   "execution_count": 42,
   "metadata": {},
   "outputs": [
    {
     "data": {
      "text/plain": [
       "\"Attack On Titan is officially over. And nothing will ever be the same. When I finished Breaking Bad back in 2019 prior to ever watching anime, if someone told me an anime would be on the same playing field as Breaking Bad and even exceed it at times, I would've told them they were crazy. But in reality, I was the crazy one. This story took me places mentally and emotionally I didn't think I could go. In this dark and cruel world created by Hajime Isayama, while some things are objectively wrong, there's never a moment where you can definitively say that someone's the good guy or bad guy. Once you see the full picture of the show, it's indescribable to explain the show in the manner of good and bad considering how much everyone's in this dark abyss of a gray area that has no objective answer to whom is in the right or wrong. And that's the beauty of AOT. Attack On Titan is not meant to be joyous. It's a tragedy. It's an unfair world where everyone at some point is given a dirty hand whether they deserve it or not, and the characters have to try and live with that reality and keep moving forward. Now that doesn't mean that there aren't moments where you as a viewer can feel joyous for your perspective favorite character/side because there likely will be, but when you're no longer told the story through this small microscope, you won't be able to see the show the same. And that's where the absurd genius of the creator Hajime Isayama comes into play. As much as I love the Vince Gilligan's of the world, David Chase, Peter Gould, Jesse Armstrong, David Simon and honestly any writer of any piece of fiction... no one comes close to the creativity that this man has. Isayama is able to create this large world in these small walls surrounded by humanoid creatures that live to destroy and ruin the human race. But as you continue to watch the show, it's like you're peeling an endless onion that doesn't stop, and constantly makes your eyes water and tear up due to the brutality and the absurdity that this universe subjects you to. It will boggle your mind then tear you to shreds in ways that I've never seen before. The plot twists are second to none. The heartbreak will shatter you to pieces. The betrayals will leave you speechless. The world building will make everything before seem small. And the clashes of different ideals will leave you wondering how you could even pick a side. I could go on all day but to put it simply, the unique story in itself is what brings this all together. And that's not even mentioning things like the voice acting, music, animation, esc. Which are all top tier. This isn't an anime. This isn't a TV show. This is a fictional masterpiece. And I'm honored and blessed to say that I got to live to see the day where I'd witness the end of it. Thank you, Hajime Isayama. And see you later, AOT.\""
      ]
     },
     "execution_count": 42,
     "metadata": {},
     "output_type": "execute_result"
    }
   ],
   "source": [
    "df['review'].iloc[0]  # Access and display a review from the DataFrame"
   ]
  },
  {
   "cell_type": "code",
   "execution_count": 43,
   "metadata": {},
   "outputs": [],
   "source": [
    "def sentiment_score(review):\n",
    "    tokens = tokenizer.encode(review, return_tensors='pt')  # Tokenize the input sentence and return as tensor\n",
    "    result = model(tokens)  # Perform sentiment prediction using the model\n",
    "    return int(torch.argmax(result.logits))+1  # Access raw output scores (logits) from the model"
   ]
  },
  {
   "cell_type": "code",
   "execution_count": 44,
   "metadata": {},
   "outputs": [
    {
     "data": {
      "text/plain": [
       "5"
      ]
     },
     "execution_count": 44,
     "metadata": {},
     "output_type": "execute_result"
    }
   ],
   "source": [
    "sentiment_score(df['review'].iloc[1])  # Access and display a review from the DataFrame"
   ]
  },
  {
   "cell_type": "code",
   "execution_count": 45,
   "metadata": {},
   "outputs": [],
   "source": [
    "df['sentiment'] = df['review'].apply(lambda x: sentiment_score(x[:512]))  # Access and display a review from the DataFrame"
   ]
  },
  {
   "cell_type": "code",
   "execution_count": 46,
   "metadata": {},
   "outputs": [
    {
     "data": {
      "text/html": [
       "<div>\n",
       "<style scoped>\n",
       "    .dataframe tbody tr th:only-of-type {\n",
       "        vertical-align: middle;\n",
       "    }\n",
       "\n",
       "    .dataframe tbody tr th {\n",
       "        vertical-align: top;\n",
       "    }\n",
       "\n",
       "    .dataframe thead th {\n",
       "        text-align: right;\n",
       "    }\n",
       "</style>\n",
       "<table border=\"1\" class=\"dataframe\">\n",
       "  <thead>\n",
       "    <tr style=\"text-align: right;\">\n",
       "      <th></th>\n",
       "      <th>review</th>\n",
       "      <th>sentiment</th>\n",
       "    </tr>\n",
       "  </thead>\n",
       "  <tbody>\n",
       "    <tr>\n",
       "      <th>0</th>\n",
       "      <td>Attack On Titan is officially over. And nothin...</td>\n",
       "      <td>1</td>\n",
       "    </tr>\n",
       "    <tr>\n",
       "      <th>1</th>\n",
       "      <td>The moment you watch this audiovisual masterpi...</td>\n",
       "      <td>5</td>\n",
       "    </tr>\n",
       "    <tr>\n",
       "      <th>2</th>\n",
       "      <td>Before I started watching this show, I couldn'...</td>\n",
       "      <td>5</td>\n",
       "    </tr>\n",
       "    <tr>\n",
       "      <th>3</th>\n",
       "      <td>Never have I been one to seek out Anime but th...</td>\n",
       "      <td>5</td>\n",
       "    </tr>\n",
       "    <tr>\n",
       "      <th>4</th>\n",
       "      <td>*NO SPOILERS IN MY REVIEW* I can't put into wo...</td>\n",
       "      <td>2</td>\n",
       "    </tr>\n",
       "    <tr>\n",
       "      <th>5</th>\n",
       "      <td>Growing up in the 80's 90's during the time of...</td>\n",
       "      <td>5</td>\n",
       "    </tr>\n",
       "    <tr>\n",
       "      <th>6</th>\n",
       "      <td>I'm a more frequent American TV shows watcher ...</td>\n",
       "      <td>2</td>\n",
       "    </tr>\n",
       "    <tr>\n",
       "      <th>7</th>\n",
       "      <td>Attack On Titan makes it hard for me to enjoy ...</td>\n",
       "      <td>3</td>\n",
       "    </tr>\n",
       "    <tr>\n",
       "      <th>8</th>\n",
       "      <td>Incredible, I honestly have to say that this c...</td>\n",
       "      <td>5</td>\n",
       "    </tr>\n",
       "    <tr>\n",
       "      <th>9</th>\n",
       "      <td>I'm not an expert of anime. I haven't even rea...</td>\n",
       "      <td>4</td>\n",
       "    </tr>\n",
       "    <tr>\n",
       "      <th>10</th>\n",
       "      <td>The entire storyline is constantly expanding w...</td>\n",
       "      <td>5</td>\n",
       "    </tr>\n",
       "    <tr>\n",
       "      <th>11</th>\n",
       "      <td>Season 1: 7/10 This is probably the best the s...</td>\n",
       "      <td>4</td>\n",
       "    </tr>\n",
       "    <tr>\n",
       "      <th>12</th>\n",
       "      <td>Season 4 is halfway through already, and I hav...</td>\n",
       "      <td>5</td>\n",
       "    </tr>\n",
       "    <tr>\n",
       "      <th>13</th>\n",
       "      <td>Review By Kamal K Story 10/10 It continunes fe...</td>\n",
       "      <td>4</td>\n",
       "    </tr>\n",
       "    <tr>\n",
       "      <th>14</th>\n",
       "      <td>This anime is simply amazing! The way it is an...</td>\n",
       "      <td>5</td>\n",
       "    </tr>\n",
       "    <tr>\n",
       "      <th>15</th>\n",
       "      <td>A lot of people have this question, can season...</td>\n",
       "      <td>5</td>\n",
       "    </tr>\n",
       "    <tr>\n",
       "      <th>16</th>\n",
       "      <td>Ive been watching this show since 2016, and I ...</td>\n",
       "      <td>1</td>\n",
       "    </tr>\n",
       "    <tr>\n",
       "      <th>17</th>\n",
       "      <td>Attack on Titan is the king of world building ...</td>\n",
       "      <td>4</td>\n",
       "    </tr>\n",
       "    <tr>\n",
       "      <th>18</th>\n",
       "      <td>Perfect from every prospective story,music, so...</td>\n",
       "      <td>5</td>\n",
       "    </tr>\n",
       "    <tr>\n",
       "      <th>19</th>\n",
       "      <td>Some of the people have rated this show a 1 ou...</td>\n",
       "      <td>2</td>\n",
       "    </tr>\n",
       "    <tr>\n",
       "      <th>20</th>\n",
       "      <td>This series is really ahead of its time, its b...</td>\n",
       "      <td>5</td>\n",
       "    </tr>\n",
       "    <tr>\n",
       "      <th>21</th>\n",
       "      <td>This is the show that made me create an accoun...</td>\n",
       "      <td>5</td>\n",
       "    </tr>\n",
       "  </tbody>\n",
       "</table>\n",
       "</div>"
      ],
      "text/plain": [
       "                                               review  sentiment\n",
       "0   Attack On Titan is officially over. And nothin...          1\n",
       "1   The moment you watch this audiovisual masterpi...          5\n",
       "2   Before I started watching this show, I couldn'...          5\n",
       "3   Never have I been one to seek out Anime but th...          5\n",
       "4   *NO SPOILERS IN MY REVIEW* I can't put into wo...          2\n",
       "5   Growing up in the 80's 90's during the time of...          5\n",
       "6   I'm a more frequent American TV shows watcher ...          2\n",
       "7   Attack On Titan makes it hard for me to enjoy ...          3\n",
       "8   Incredible, I honestly have to say that this c...          5\n",
       "9   I'm not an expert of anime. I haven't even rea...          4\n",
       "10  The entire storyline is constantly expanding w...          5\n",
       "11  Season 1: 7/10 This is probably the best the s...          4\n",
       "12  Season 4 is halfway through already, and I hav...          5\n",
       "13  Review By Kamal K Story 10/10 It continunes fe...          4\n",
       "14  This anime is simply amazing! The way it is an...          5\n",
       "15  A lot of people have this question, can season...          5\n",
       "16  Ive been watching this show since 2016, and I ...          1\n",
       "17  Attack on Titan is the king of world building ...          4\n",
       "18  Perfect from every prospective story,music, so...          5\n",
       "19  Some of the people have rated this show a 1 ou...          2\n",
       "20  This series is really ahead of its time, its b...          5\n",
       "21  This is the show that made me create an accoun...          5"
      ]
     },
     "execution_count": 46,
     "metadata": {},
     "output_type": "execute_result"
    }
   ],
   "source": [
    "df"
   ]
  },
  {
   "cell_type": "code",
   "execution_count": 47,
   "metadata": {},
   "outputs": [
    {
     "data": {
      "text/plain": [
       "\"Never have I been one to seek out Anime but this show was recommended to me very heavily multiple times. I eventually caved and watched the first episode. I was then sucked into the most intense binge watch I've ever experienced. It is on second to Band of Brothers in my personal favorite shows. I have no words to truly describe how incredible this show is. I wish I could go back in time and watch it for the first time again. This show had almost ruined all other tv shows for me because I know they will never even come close to being as perfect as this show. The characters and story line are impeccable.\""
      ]
     },
     "execution_count": 47,
     "metadata": {},
     "output_type": "execute_result"
    }
   ],
   "source": [
    "df['review'].iloc[3]  # Access and display a review from the DataFrame"
   ]
  },
  {
   "cell_type": "code",
   "execution_count": 48,
   "metadata": {},
   "outputs": [
    {
     "name": "stdout",
     "output_type": "stream",
     "text": [
      "Average Sentiment Score: 4.45 out of 5\n"
     ]
    }
   ],
   "source": [
    "# Analyze sentiment for each review and store the score\n",
    "scores = []\n",
    "\n",
    "for review in reviews:\n",
    "    tokens = tokenizer.encode(review, return_tensors='pt', truncation=True, max_length=512)\n",
    "    result = model(tokens)\n",
    "    score = int(torch.argmax(result.logits)) + 1  # Sentiment scores are from 1 to 5\n",
    "    scores.append(score)\n",
    "\n",
    "# Calculate the average sentiment\n",
    "average_score = sum(scores) / len(scores) if scores else 0\n",
    "\n",
    "print(f\"Average Sentiment Score: {average_score:.2f} out of 5\")\n"
   ]
  }
 ],
 "metadata": {
  "kernelspec": {
   "display_name": "Python 3 (ipykernel)",
   "language": "python",
   "name": "python3"
  },
  "language_info": {
   "codemirror_mode": {
    "name": "ipython",
    "version": 3
   },
   "file_extension": ".py",
   "mimetype": "text/x-python",
   "name": "python",
   "nbconvert_exporter": "python",
   "pygments_lexer": "ipython3",
   "version": "3.9.6"
  }
 },
 "nbformat": 4,
 "nbformat_minor": 4
}
